{
 "cells": [
  {
   "cell_type": "code",
   "execution_count": 1,
   "id": "14680218",
   "metadata": {},
   "outputs": [],
   "source": [
    "import os\n",
    "os.environ['TF_ENABLE_ONEDNN_OPTS'] = '0'  \n",
    "import json\n",
    "import pickle\n",
    "import numpy as np\n",
    "import pandas as pd\n",
    "import tensorflow as tf\n",
    "from tensorflow import keras\n",
    "from tensorflow.keras.models import Sequential\n",
    "from tensorflow.keras.layers import (Dense, Embedding, Bidirectional, \n",
    "                                    LSTM, Dropout, BatchNormalization,\n",
    "                                    SpatialDropout1D, Attention)\n",
    "from tensorflow.keras.preprocessing.text import Tokenizer\n",
    "from tensorflow.keras.preprocessing.sequence import pad_sequences\n",
    "from sklearn.preprocessing import LabelEncoder\n",
    "from sklearn.model_selection import train_test_split\n",
    "from sklearn.utils.class_weight import compute_class_weight\n",
    "from tensorflow.keras.callbacks import EarlyStopping, ReduceLROnPlateau, ModelCheckpoint\n",
    "import matplotlib.pyplot as plt\n",
    "from textaugment import EDA\n",
    "import re\n",
    "from spellchecker import SpellChecker\n",
    "from tensorflow.keras import backend as K\n"
   ]
  },
  {
   "cell_type": "code",
   "execution_count": 2,
   "id": "6bd99f78",
   "metadata": {},
   "outputs": [],
   "source": [
    "# Initialize spell checker\n",
    "spell = SpellChecker()\n"
   ]
  },
  {
   "cell_type": "code",
   "execution_count": 3,
   "id": "6642ce2f",
   "metadata": {},
   "outputs": [],
   "source": [
    "\n",
    "# 1. Text Cleaning Functions\n",
    "def clean_text(text):\n",
    "    # Correct common misspellings\n",
    "    text = re.sub(r'\\bhthere\\b', 'hi there', text)\n",
    "    text = re.sub(r'\\bhtere\\b', 'hi there', text)\n",
    "    text = re.sub(r'\\btheree\\b', 'there', text)\n",
    "    text = re.sub(r'\\btere\\b', 'there', text)\n",
    "    text = re.sub(r'\\bhow-do-you-do\\b', 'hello', text)\n",
    "    text = re.sub(r'\\bhllo\\b', 'hello', text)\n",
    "    # Remove special characters and extra spaces\n",
    "    text = re.sub(r'[^\\w\\s]', '', text)\n",
    "    text = re.sub(r'\\s+', ' ', text).strip()\n",
    "    \n",
    "    return text.lower()\n"
   ]
  },
  {
   "cell_type": "code",
   "execution_count": 4,
   "id": "be444e7b",
   "metadata": {},
   "outputs": [],
   "source": [
    "\n",
    "# 2. Advanced Data Augmentation\n",
    "def smart_augment(sentence, n=3):\n",
    "    augmenter = EDA()\n",
    "    augmented = []\n",
    "    \n",
    "    # Original cleaned sentence\n",
    "    cleaned = clean_text(sentence)\n",
    "    if cleaned not in augmented:\n",
    "        augmented.append(cleaned)\n",
    "    \n",
    "    # Synonym replacement\n",
    "    for _ in range(n):\n",
    "        syn = augmenter.synonym_replacement(cleaned)\n",
    "        if syn not in augmented:\n",
    "            augmented.append(syn)\n",
    "    \n",
    "    # Random swap for longer sentences\n",
    "    if len(cleaned.split()) > 3:\n",
    "        for _ in range(n):\n",
    "            swap = augmenter.random_swap(cleaned)\n",
    "            if swap not in augmented:\n",
    "                augmented.append(swap)\n",
    "    \n",
    "    return augmented\n"
   ]
  },
  {
   "cell_type": "code",
   "execution_count": 5,
   "id": "4d5da1ed",
   "metadata": {},
   "outputs": [],
   "source": [
    "\n",
    "# 3. Load and Preprocess Data\n",
    "def load_and_enhance_data(file_path):\n",
    "    with open(file_path, encoding=\"utf-8\") as file:\n",
    "        data = json.load(file)\n",
    "    \n",
    "    training_sentences = []\n",
    "    training_labels = []\n",
    "    labels = []\n",
    "    responses = []\n",
    "\n",
    "    for intent in data['intents']:\n",
    "        if len(intent['patterns']) >= 3:\n",
    "            unique_patterns = list(set(intent['patterns']))  # Remove duplicates\n",
    "            for pattern in unique_patterns:\n",
    "                # Generate augmented variations\n",
    "                augmented = smart_augment(pattern)\n",
    "                training_sentences.extend(augmented)\n",
    "                training_labels.extend([intent['tag']] * len(augmented))\n",
    "            \n",
    "            responses.append(intent['responses'])\n",
    "            labels.append(intent['tag'])\n",
    "    \n",
    "    return training_sentences, training_labels, labels, responses\n"
   ]
  },
  {
   "cell_type": "code",
   "execution_count": 6,
   "id": "73ebb873",
   "metadata": {},
   "outputs": [],
   "source": [
    "\n",
    "# 4. Load Enhanced Data\n",
    "file_path = \"intents[1].json\"\n",
    "training_sentences, training_labels, labels, responses = load_and_enhance_data(file_path)\n"
   ]
  },
  {
   "cell_type": "code",
   "execution_count": 7,
   "id": "9a58c410",
   "metadata": {},
   "outputs": [
    {
     "name": "stdout",
     "output_type": "stream",
     "text": [
      "\n",
      "Enhanced Class Distribution:\n",
      "music_play         6430\n",
      "jokes              4715\n",
      "suicide            4598\n",
      "datetime_query     4517\n",
      "sleep              4509\n",
      "                   ... \n",
      "evening              45\n",
      "arabic_greeting      42\n",
      "yes                  32\n",
      "noanswer             22\n",
      "no                   13\n",
      "Name: count, Length: 290, dtype: int64\n",
      "\n",
      "Number of Classes: 306\n"
     ]
    }
   ],
   "source": [
    "\n",
    "# 5. Analyze Enhanced Data\n",
    "print(\"\\nEnhanced Class Distribution:\")\n",
    "print(pd.Series(training_labels).value_counts())\n",
    "\n",
    "# 6. Label Encoding\n",
    "label_encoder = LabelEncoder()\n",
    "training_labels = label_encoder.fit_transform(training_labels)\n",
    "num_classes = len(labels)\n",
    "print(f\"\\nNumber of Classes: {num_classes}\")\n",
    "\n",
    "# 7. Improved Tokenization\n",
    "vocab_size = 2000\n",
    "max_len = 15\n",
    "embedding_dim = 128\n",
    "\n",
    "tokenizer = Tokenizer(\n",
    "    num_words=vocab_size,\n",
    "    oov_token=\"<OOV>\",\n",
    "    filters=''\n",
    ")\n",
    "tokenizer.fit_on_texts(training_sentences)\n",
    "sequences = tokenizer.texts_to_sequences(training_sentences)\n",
    "padded_sequences = pad_sequences(sequences, maxlen=max_len, padding='post', truncating='post')\n"
   ]
  },
  {
   "cell_type": "code",
   "execution_count": 8,
   "id": "2de367fe",
   "metadata": {},
   "outputs": [],
   "source": [
    "\n",
    "# 8. Data Splitting\n",
    "X_train, X_test, y_train, y_test = train_test_split(\n",
    "    padded_sequences,\n",
    "    training_labels,\n",
    "    test_size=0.15,\n",
    "    random_state=42,\n",
    "    stratify=training_labels\n",
    ")\n",
    "\n",
    "# 9. Calculate Class Weights\n",
    "class_weights = compute_class_weight(\n",
    "    'balanced',\n",
    "    classes=np.unique(training_labels),\n",
    "    y=training_labels\n",
    ")\n",
    "class_weight = dict(enumerate(class_weights))\n"
   ]
  },
  {
   "cell_type": "code",
   "execution_count": 9,
   "id": "2281567d",
   "metadata": {},
   "outputs": [],
   "source": [
    "def build_smarter_model():\n",
    "    inputs = keras.Input(shape=(max_len,))\n",
    "    x = Embedding(vocab_size, embedding_dim, mask_zero=True)(inputs)\n",
    "    x = SpatialDropout1D(0.3)(x)\n",
    "    \n",
    "    # Bidirectional LSTM with return_sequences=True\n",
    "    lstm_out = Bidirectional(LSTM(64, return_sequences=True))(x)  # Shape: [batch, seq_len, 128]\n",
    "\n",
    "    # Self-Attention using Dot Product\n",
    "    from tensorflow.keras.layers import Dense, Layer\n",
    "    class SelfAttention(keras.layers.Layer):\n",
    "        def __init__(self, units, **kwargs):\n",
    "            super().__init__(**kwargs)\n",
    "            self.units = units\n",
    "            self.query = Dense(units)\n",
    "            self.key = Dense(units)\n",
    "            self.value = Dense(units)\n",
    "\n",
    "        def call(self, inputs):\n",
    "            q = self.query(inputs)   # (batch, seq_len, units)\n",
    "            k = self.key(inputs)     # (batch, seq_len, units)\n",
    "            v = self.value(inputs)   # (batch, seq_len, units)\n",
    "\n",
    "            # Dot product attention\n",
    "            scores = tf.matmul(q, k, transpose_b=True) / tf.math.sqrt(tf.cast(self.units, tf.float32))\n",
    "            weights = tf.nn.softmax(scores, axis=-1)\n",
    "            output = tf.matmul(weights, v)\n",
    "            return output\n",
    "\n",
    "    attn_out = SelfAttention(units=64)(lstm_out)  # units يمكن أن تساوي 128\n",
    "    \n",
    "    # Global pooling after attention\n",
    "    x = tf.keras.layers.GlobalAveragePooling1D()(attn_out)\n",
    "    x = BatchNormalization()(x)\n",
    "    x = Dropout(0.4)(x)\n",
    "    x = Dense(64, activation='relu')(x)\n",
    "    x = BatchNormalization()(x)\n",
    "    x = Dropout(0.3)(x)\n",
    "    outputs = Dense(num_classes, activation='softmax')(x)\n",
    "\n",
    "    model = keras.Model(inputs, outputs)\n",
    "    optimizer = keras.optimizers.Adam(learning_rate=0.0005)\n",
    "    model.compile(\n",
    "        optimizer=optimizer,\n",
    "        loss='sparse_categorical_crossentropy',\n",
    "        metrics=['accuracy']\n",
    "    )\n",
    "    return model\n"
   ]
  },
  {
   "cell_type": "code",
   "execution_count": 10,
   "id": "0ff73585",
   "metadata": {},
   "outputs": [
    {
     "name": "stdout",
     "output_type": "stream",
     "text": [
      "WARNING:tensorflow:From e:\\anaconda\\Lib\\site-packages\\keras\\src\\backend\\tensorflow\\core.py:219: The name tf.placeholder is deprecated. Please use tf.compat.v1.placeholder instead.\n",
      "\n"
     ]
    },
    {
     "name": "stderr",
     "output_type": "stream",
     "text": [
      "e:\\anaconda\\Lib\\site-packages\\keras\\src\\layers\\layer.py:939: UserWarning: Layer 'self_attention' (of type SelfAttention) was passed an input with a mask attached to it. However, this layer does not support masking and will therefore destroy the mask information. Downstream layers will not see the mask.\n",
      "  warnings.warn(\n"
     ]
    },
    {
     "data": {
      "text/html": [
       "<pre style=\"white-space:pre;overflow-x:auto;line-height:normal;font-family:Menlo,'DejaVu Sans Mono',consolas,'Courier New',monospace\"><span style=\"font-weight: bold\">Model: \"functional\"</span>\n",
       "</pre>\n"
      ],
      "text/plain": [
       "\u001b[1mModel: \"functional\"\u001b[0m\n"
      ]
     },
     "metadata": {},
     "output_type": "display_data"
    },
    {
     "data": {
      "text/html": [
       "<pre style=\"white-space:pre;overflow-x:auto;line-height:normal;font-family:Menlo,'DejaVu Sans Mono',consolas,'Courier New',monospace\">┏━━━━━━━━━━━━━━━━━━━━━┳━━━━━━━━━━━━━━━━━━━┳━━━━━━━━━━━━┳━━━━━━━━━━━━━━━━━━━┓\n",
       "┃<span style=\"font-weight: bold\"> Layer (type)        </span>┃<span style=\"font-weight: bold\"> Output Shape      </span>┃<span style=\"font-weight: bold\">    Param # </span>┃<span style=\"font-weight: bold\"> Connected to      </span>┃\n",
       "┡━━━━━━━━━━━━━━━━━━━━━╇━━━━━━━━━━━━━━━━━━━╇━━━━━━━━━━━━╇━━━━━━━━━━━━━━━━━━━┩\n",
       "│ input_layer         │ (<span style=\"color: #00d7ff; text-decoration-color: #00d7ff\">None</span>, <span style=\"color: #00af00; text-decoration-color: #00af00\">15</span>)        │          <span style=\"color: #00af00; text-decoration-color: #00af00\">0</span> │ -                 │\n",
       "│ (<span style=\"color: #0087ff; text-decoration-color: #0087ff\">InputLayer</span>)        │                   │            │                   │\n",
       "├─────────────────────┼───────────────────┼────────────┼───────────────────┤\n",
       "│ embedding           │ (<span style=\"color: #00d7ff; text-decoration-color: #00d7ff\">None</span>, <span style=\"color: #00af00; text-decoration-color: #00af00\">15</span>, <span style=\"color: #00af00; text-decoration-color: #00af00\">128</span>)   │    <span style=\"color: #00af00; text-decoration-color: #00af00\">256,000</span> │ input_layer[<span style=\"color: #00af00; text-decoration-color: #00af00\">0</span>][<span style=\"color: #00af00; text-decoration-color: #00af00\">0</span>] │\n",
       "│ (<span style=\"color: #0087ff; text-decoration-color: #0087ff\">Embedding</span>)         │                   │            │                   │\n",
       "├─────────────────────┼───────────────────┼────────────┼───────────────────┤\n",
       "│ spatial_dropout1d   │ (<span style=\"color: #00d7ff; text-decoration-color: #00d7ff\">None</span>, <span style=\"color: #00af00; text-decoration-color: #00af00\">15</span>, <span style=\"color: #00af00; text-decoration-color: #00af00\">128</span>)   │          <span style=\"color: #00af00; text-decoration-color: #00af00\">0</span> │ embedding[<span style=\"color: #00af00; text-decoration-color: #00af00\">0</span>][<span style=\"color: #00af00; text-decoration-color: #00af00\">0</span>]   │\n",
       "│ (<span style=\"color: #0087ff; text-decoration-color: #0087ff\">SpatialDropout1D</span>)  │                   │            │                   │\n",
       "├─────────────────────┼───────────────────┼────────────┼───────────────────┤\n",
       "│ not_equal           │ (<span style=\"color: #00d7ff; text-decoration-color: #00d7ff\">None</span>, <span style=\"color: #00af00; text-decoration-color: #00af00\">15</span>)        │          <span style=\"color: #00af00; text-decoration-color: #00af00\">0</span> │ input_layer[<span style=\"color: #00af00; text-decoration-color: #00af00\">0</span>][<span style=\"color: #00af00; text-decoration-color: #00af00\">0</span>] │\n",
       "│ (<span style=\"color: #0087ff; text-decoration-color: #0087ff\">NotEqual</span>)          │                   │            │                   │\n",
       "├─────────────────────┼───────────────────┼────────────┼───────────────────┤\n",
       "│ bidirectional       │ (<span style=\"color: #00d7ff; text-decoration-color: #00d7ff\">None</span>, <span style=\"color: #00af00; text-decoration-color: #00af00\">15</span>, <span style=\"color: #00af00; text-decoration-color: #00af00\">128</span>)   │     <span style=\"color: #00af00; text-decoration-color: #00af00\">98,816</span> │ spatial_dropout1… │\n",
       "│ (<span style=\"color: #0087ff; text-decoration-color: #0087ff\">Bidirectional</span>)     │                   │            │ not_equal[<span style=\"color: #00af00; text-decoration-color: #00af00\">0</span>][<span style=\"color: #00af00; text-decoration-color: #00af00\">0</span>]   │\n",
       "├─────────────────────┼───────────────────┼────────────┼───────────────────┤\n",
       "│ self_attention      │ (<span style=\"color: #00d7ff; text-decoration-color: #00d7ff\">None</span>, <span style=\"color: #00af00; text-decoration-color: #00af00\">15</span>, <span style=\"color: #00af00; text-decoration-color: #00af00\">64</span>)    │     <span style=\"color: #00af00; text-decoration-color: #00af00\">24,768</span> │ bidirectional[<span style=\"color: #00af00; text-decoration-color: #00af00\">0</span>]… │\n",
       "│ (<span style=\"color: #0087ff; text-decoration-color: #0087ff\">SelfAttention</span>)     │                   │            │                   │\n",
       "├─────────────────────┼───────────────────┼────────────┼───────────────────┤\n",
       "│ global_average_poo… │ (<span style=\"color: #00d7ff; text-decoration-color: #00d7ff\">None</span>, <span style=\"color: #00af00; text-decoration-color: #00af00\">64</span>)        │          <span style=\"color: #00af00; text-decoration-color: #00af00\">0</span> │ self_attention[<span style=\"color: #00af00; text-decoration-color: #00af00\">0</span>… │\n",
       "│ (<span style=\"color: #0087ff; text-decoration-color: #0087ff\">GlobalAveragePool…</span> │                   │            │                   │\n",
       "├─────────────────────┼───────────────────┼────────────┼───────────────────┤\n",
       "│ batch_normalization │ (<span style=\"color: #00d7ff; text-decoration-color: #00d7ff\">None</span>, <span style=\"color: #00af00; text-decoration-color: #00af00\">64</span>)        │        <span style=\"color: #00af00; text-decoration-color: #00af00\">256</span> │ global_average_p… │\n",
       "│ (<span style=\"color: #0087ff; text-decoration-color: #0087ff\">BatchNormalizatio…</span> │                   │            │                   │\n",
       "├─────────────────────┼───────────────────┼────────────┼───────────────────┤\n",
       "│ dropout (<span style=\"color: #0087ff; text-decoration-color: #0087ff\">Dropout</span>)   │ (<span style=\"color: #00d7ff; text-decoration-color: #00d7ff\">None</span>, <span style=\"color: #00af00; text-decoration-color: #00af00\">64</span>)        │          <span style=\"color: #00af00; text-decoration-color: #00af00\">0</span> │ batch_normalizat… │\n",
       "├─────────────────────┼───────────────────┼────────────┼───────────────────┤\n",
       "│ dense_3 (<span style=\"color: #0087ff; text-decoration-color: #0087ff\">Dense</span>)     │ (<span style=\"color: #00d7ff; text-decoration-color: #00d7ff\">None</span>, <span style=\"color: #00af00; text-decoration-color: #00af00\">64</span>)        │      <span style=\"color: #00af00; text-decoration-color: #00af00\">4,160</span> │ dropout[<span style=\"color: #00af00; text-decoration-color: #00af00\">0</span>][<span style=\"color: #00af00; text-decoration-color: #00af00\">0</span>]     │\n",
       "├─────────────────────┼───────────────────┼────────────┼───────────────────┤\n",
       "│ batch_normalizatio… │ (<span style=\"color: #00d7ff; text-decoration-color: #00d7ff\">None</span>, <span style=\"color: #00af00; text-decoration-color: #00af00\">64</span>)        │        <span style=\"color: #00af00; text-decoration-color: #00af00\">256</span> │ dense_3[<span style=\"color: #00af00; text-decoration-color: #00af00\">0</span>][<span style=\"color: #00af00; text-decoration-color: #00af00\">0</span>]     │\n",
       "│ (<span style=\"color: #0087ff; text-decoration-color: #0087ff\">BatchNormalizatio…</span> │                   │            │                   │\n",
       "├─────────────────────┼───────────────────┼────────────┼───────────────────┤\n",
       "│ dropout_1 (<span style=\"color: #0087ff; text-decoration-color: #0087ff\">Dropout</span>) │ (<span style=\"color: #00d7ff; text-decoration-color: #00d7ff\">None</span>, <span style=\"color: #00af00; text-decoration-color: #00af00\">64</span>)        │          <span style=\"color: #00af00; text-decoration-color: #00af00\">0</span> │ batch_normalizat… │\n",
       "├─────────────────────┼───────────────────┼────────────┼───────────────────┤\n",
       "│ dense_4 (<span style=\"color: #0087ff; text-decoration-color: #0087ff\">Dense</span>)     │ (<span style=\"color: #00d7ff; text-decoration-color: #00d7ff\">None</span>, <span style=\"color: #00af00; text-decoration-color: #00af00\">306</span>)       │     <span style=\"color: #00af00; text-decoration-color: #00af00\">19,890</span> │ dropout_1[<span style=\"color: #00af00; text-decoration-color: #00af00\">0</span>][<span style=\"color: #00af00; text-decoration-color: #00af00\">0</span>]   │\n",
       "└─────────────────────┴───────────────────┴────────────┴───────────────────┘\n",
       "</pre>\n"
      ],
      "text/plain": [
       "┏━━━━━━━━━━━━━━━━━━━━━┳━━━━━━━━━━━━━━━━━━━┳━━━━━━━━━━━━┳━━━━━━━━━━━━━━━━━━━┓\n",
       "┃\u001b[1m \u001b[0m\u001b[1mLayer (type)       \u001b[0m\u001b[1m \u001b[0m┃\u001b[1m \u001b[0m\u001b[1mOutput Shape     \u001b[0m\u001b[1m \u001b[0m┃\u001b[1m \u001b[0m\u001b[1m   Param #\u001b[0m\u001b[1m \u001b[0m┃\u001b[1m \u001b[0m\u001b[1mConnected to     \u001b[0m\u001b[1m \u001b[0m┃\n",
       "┡━━━━━━━━━━━━━━━━━━━━━╇━━━━━━━━━━━━━━━━━━━╇━━━━━━━━━━━━╇━━━━━━━━━━━━━━━━━━━┩\n",
       "│ input_layer         │ (\u001b[38;5;45mNone\u001b[0m, \u001b[38;5;34m15\u001b[0m)        │          \u001b[38;5;34m0\u001b[0m │ -                 │\n",
       "│ (\u001b[38;5;33mInputLayer\u001b[0m)        │                   │            │                   │\n",
       "├─────────────────────┼───────────────────┼────────────┼───────────────────┤\n",
       "│ embedding           │ (\u001b[38;5;45mNone\u001b[0m, \u001b[38;5;34m15\u001b[0m, \u001b[38;5;34m128\u001b[0m)   │    \u001b[38;5;34m256,000\u001b[0m │ input_layer[\u001b[38;5;34m0\u001b[0m][\u001b[38;5;34m0\u001b[0m] │\n",
       "│ (\u001b[38;5;33mEmbedding\u001b[0m)         │                   │            │                   │\n",
       "├─────────────────────┼───────────────────┼────────────┼───────────────────┤\n",
       "│ spatial_dropout1d   │ (\u001b[38;5;45mNone\u001b[0m, \u001b[38;5;34m15\u001b[0m, \u001b[38;5;34m128\u001b[0m)   │          \u001b[38;5;34m0\u001b[0m │ embedding[\u001b[38;5;34m0\u001b[0m][\u001b[38;5;34m0\u001b[0m]   │\n",
       "│ (\u001b[38;5;33mSpatialDropout1D\u001b[0m)  │                   │            │                   │\n",
       "├─────────────────────┼───────────────────┼────────────┼───────────────────┤\n",
       "│ not_equal           │ (\u001b[38;5;45mNone\u001b[0m, \u001b[38;5;34m15\u001b[0m)        │          \u001b[38;5;34m0\u001b[0m │ input_layer[\u001b[38;5;34m0\u001b[0m][\u001b[38;5;34m0\u001b[0m] │\n",
       "│ (\u001b[38;5;33mNotEqual\u001b[0m)          │                   │            │                   │\n",
       "├─────────────────────┼───────────────────┼────────────┼───────────────────┤\n",
       "│ bidirectional       │ (\u001b[38;5;45mNone\u001b[0m, \u001b[38;5;34m15\u001b[0m, \u001b[38;5;34m128\u001b[0m)   │     \u001b[38;5;34m98,816\u001b[0m │ spatial_dropout1… │\n",
       "│ (\u001b[38;5;33mBidirectional\u001b[0m)     │                   │            │ not_equal[\u001b[38;5;34m0\u001b[0m][\u001b[38;5;34m0\u001b[0m]   │\n",
       "├─────────────────────┼───────────────────┼────────────┼───────────────────┤\n",
       "│ self_attention      │ (\u001b[38;5;45mNone\u001b[0m, \u001b[38;5;34m15\u001b[0m, \u001b[38;5;34m64\u001b[0m)    │     \u001b[38;5;34m24,768\u001b[0m │ bidirectional[\u001b[38;5;34m0\u001b[0m]… │\n",
       "│ (\u001b[38;5;33mSelfAttention\u001b[0m)     │                   │            │                   │\n",
       "├─────────────────────┼───────────────────┼────────────┼───────────────────┤\n",
       "│ global_average_poo… │ (\u001b[38;5;45mNone\u001b[0m, \u001b[38;5;34m64\u001b[0m)        │          \u001b[38;5;34m0\u001b[0m │ self_attention[\u001b[38;5;34m0\u001b[0m… │\n",
       "│ (\u001b[38;5;33mGlobalAveragePool…\u001b[0m │                   │            │                   │\n",
       "├─────────────────────┼───────────────────┼────────────┼───────────────────┤\n",
       "│ batch_normalization │ (\u001b[38;5;45mNone\u001b[0m, \u001b[38;5;34m64\u001b[0m)        │        \u001b[38;5;34m256\u001b[0m │ global_average_p… │\n",
       "│ (\u001b[38;5;33mBatchNormalizatio…\u001b[0m │                   │            │                   │\n",
       "├─────────────────────┼───────────────────┼────────────┼───────────────────┤\n",
       "│ dropout (\u001b[38;5;33mDropout\u001b[0m)   │ (\u001b[38;5;45mNone\u001b[0m, \u001b[38;5;34m64\u001b[0m)        │          \u001b[38;5;34m0\u001b[0m │ batch_normalizat… │\n",
       "├─────────────────────┼───────────────────┼────────────┼───────────────────┤\n",
       "│ dense_3 (\u001b[38;5;33mDense\u001b[0m)     │ (\u001b[38;5;45mNone\u001b[0m, \u001b[38;5;34m64\u001b[0m)        │      \u001b[38;5;34m4,160\u001b[0m │ dropout[\u001b[38;5;34m0\u001b[0m][\u001b[38;5;34m0\u001b[0m]     │\n",
       "├─────────────────────┼───────────────────┼────────────┼───────────────────┤\n",
       "│ batch_normalizatio… │ (\u001b[38;5;45mNone\u001b[0m, \u001b[38;5;34m64\u001b[0m)        │        \u001b[38;5;34m256\u001b[0m │ dense_3[\u001b[38;5;34m0\u001b[0m][\u001b[38;5;34m0\u001b[0m]     │\n",
       "│ (\u001b[38;5;33mBatchNormalizatio…\u001b[0m │                   │            │                   │\n",
       "├─────────────────────┼───────────────────┼────────────┼───────────────────┤\n",
       "│ dropout_1 (\u001b[38;5;33mDropout\u001b[0m) │ (\u001b[38;5;45mNone\u001b[0m, \u001b[38;5;34m64\u001b[0m)        │          \u001b[38;5;34m0\u001b[0m │ batch_normalizat… │\n",
       "├─────────────────────┼───────────────────┼────────────┼───────────────────┤\n",
       "│ dense_4 (\u001b[38;5;33mDense\u001b[0m)     │ (\u001b[38;5;45mNone\u001b[0m, \u001b[38;5;34m306\u001b[0m)       │     \u001b[38;5;34m19,890\u001b[0m │ dropout_1[\u001b[38;5;34m0\u001b[0m][\u001b[38;5;34m0\u001b[0m]   │\n",
       "└─────────────────────┴───────────────────┴────────────┴───────────────────┘\n"
      ]
     },
     "metadata": {},
     "output_type": "display_data"
    },
    {
     "data": {
      "text/html": [
       "<pre style=\"white-space:pre;overflow-x:auto;line-height:normal;font-family:Menlo,'DejaVu Sans Mono',consolas,'Courier New',monospace\"><span style=\"font-weight: bold\"> Total params: </span><span style=\"color: #00af00; text-decoration-color: #00af00\">404,146</span> (1.54 MB)\n",
       "</pre>\n"
      ],
      "text/plain": [
       "\u001b[1m Total params: \u001b[0m\u001b[38;5;34m404,146\u001b[0m (1.54 MB)\n"
      ]
     },
     "metadata": {},
     "output_type": "display_data"
    },
    {
     "data": {
      "text/html": [
       "<pre style=\"white-space:pre;overflow-x:auto;line-height:normal;font-family:Menlo,'DejaVu Sans Mono',consolas,'Courier New',monospace\"><span style=\"font-weight: bold\"> Trainable params: </span><span style=\"color: #00af00; text-decoration-color: #00af00\">403,890</span> (1.54 MB)\n",
       "</pre>\n"
      ],
      "text/plain": [
       "\u001b[1m Trainable params: \u001b[0m\u001b[38;5;34m403,890\u001b[0m (1.54 MB)\n"
      ]
     },
     "metadata": {},
     "output_type": "display_data"
    },
    {
     "data": {
      "text/html": [
       "<pre style=\"white-space:pre;overflow-x:auto;line-height:normal;font-family:Menlo,'DejaVu Sans Mono',consolas,'Courier New',monospace\"><span style=\"font-weight: bold\"> Non-trainable params: </span><span style=\"color: #00af00; text-decoration-color: #00af00\">256</span> (1.00 KB)\n",
       "</pre>\n"
      ],
      "text/plain": [
       "\u001b[1m Non-trainable params: \u001b[0m\u001b[38;5;34m256\u001b[0m (1.00 KB)\n"
      ]
     },
     "metadata": {},
     "output_type": "display_data"
    }
   ],
   "source": [
    "\n",
    "model = build_smarter_model()\n",
    "model.summary()\n"
   ]
  },
  {
   "cell_type": "code",
   "execution_count": 11,
   "id": "079885fc",
   "metadata": {},
   "outputs": [],
   "source": [
    "\n",
    "# 11. Training with Enhanced Callbacks\n",
    "callbacks = [\n",
    "    EarlyStopping(\n",
    "        monitor='val_accuracy',\n",
    "        patience=20,\n",
    "        mode='max',\n",
    "        restore_best_weights=True,\n",
    "        verbose=1\n",
    "    ),\n",
    "    ReduceLROnPlateau(\n",
    "        monitor='val_loss',\n",
    "        factor=0.2,\n",
    "        patience=5,\n",
    "        min_lr=1e-6,\n",
    "        verbose=1\n",
    "    ),\n",
    "    ModelCheckpoint(\n",
    "        'best_chatbot_model.h5',\n",
    "        monitor='val_accuracy',\n",
    "        save_best_only=True,\n",
    "        mode='max',\n",
    "        verbose=1\n",
    "    )\n",
    "]\n"
   ]
  },
  {
   "cell_type": "code",
   "execution_count": 12,
   "id": "fafa7249",
   "metadata": {},
   "outputs": [
    {
     "name": "stdout",
     "output_type": "stream",
     "text": [
      "\n",
      "Starting enhanced training...\n",
      "Epoch 1/130\n",
      "\n",
      "Epoch 1: val_accuracy improved from -inf to 0.82364, saving model to best_chatbot_model.h5\n"
     ]
    },
    {
     "name": "stderr",
     "output_type": "stream",
     "text": [
      "WARNING:absl:You are saving your model as an HDF5 file via `model.save()` or `keras.saving.save_model(model)`. This file format is considered legacy. We recommend using instead the native Keras format, e.g. `model.save('my_model.keras')` or `keras.saving.save_model(model, 'my_model.keras')`. \n"
     ]
    },
    {
     "name": "stdout",
     "output_type": "stream",
     "text": [
      "20857/20857 - 672s - 32ms/step - accuracy: 0.6211 - loss: 1.6622 - val_accuracy: 0.8236 - val_loss: 0.5294 - learning_rate: 5.0000e-04\n",
      "Epoch 2/130\n",
      "\n",
      "Epoch 2: val_accuracy improved from 0.82364 to 0.85972, saving model to best_chatbot_model.h5\n"
     ]
    },
    {
     "name": "stderr",
     "output_type": "stream",
     "text": [
      "WARNING:absl:You are saving your model as an HDF5 file via `model.save()` or `keras.saving.save_model(model)`. This file format is considered legacy. We recommend using instead the native Keras format, e.g. `model.save('my_model.keras')` or `keras.saving.save_model(model, 'my_model.keras')`. \n"
     ]
    },
    {
     "name": "stdout",
     "output_type": "stream",
     "text": [
      "20857/20857 - 662s - 32ms/step - accuracy: 0.7582 - loss: 0.8739 - val_accuracy: 0.8597 - val_loss: 0.3719 - learning_rate: 5.0000e-04\n",
      "Epoch 3/130\n",
      "\n",
      "Epoch 3: val_accuracy improved from 0.85972 to 0.86127, saving model to best_chatbot_model.h5\n"
     ]
    },
    {
     "name": "stderr",
     "output_type": "stream",
     "text": [
      "WARNING:absl:You are saving your model as an HDF5 file via `model.save()` or `keras.saving.save_model(model)`. This file format is considered legacy. We recommend using instead the native Keras format, e.g. `model.save('my_model.keras')` or `keras.saving.save_model(model, 'my_model.keras')`. \n"
     ]
    },
    {
     "name": "stdout",
     "output_type": "stream",
     "text": [
      "20857/20857 - 35639s - 2s/step - accuracy: 0.7825 - loss: 0.7795 - val_accuracy: 0.8613 - val_loss: 0.3694 - learning_rate: 5.0000e-04\n",
      "Epoch 4/130\n",
      "\n",
      "Epoch 4: val_accuracy improved from 0.86127 to 0.86757, saving model to best_chatbot_model.h5\n"
     ]
    },
    {
     "name": "stderr",
     "output_type": "stream",
     "text": [
      "WARNING:absl:You are saving your model as an HDF5 file via `model.save()` or `keras.saving.save_model(model)`. This file format is considered legacy. We recommend using instead the native Keras format, e.g. `model.save('my_model.keras')` or `keras.saving.save_model(model, 'my_model.keras')`. \n"
     ]
    },
    {
     "name": "stdout",
     "output_type": "stream",
     "text": [
      "20857/20857 - 637s - 31ms/step - accuracy: 0.7958 - loss: 0.7205 - val_accuracy: 0.8676 - val_loss: 0.3351 - learning_rate: 5.0000e-04\n",
      "Epoch 5/130\n",
      "\n",
      "Epoch 5: val_accuracy improved from 0.86757 to 0.86887, saving model to best_chatbot_model.h5\n"
     ]
    },
    {
     "name": "stderr",
     "output_type": "stream",
     "text": [
      "WARNING:absl:You are saving your model as an HDF5 file via `model.save()` or `keras.saving.save_model(model)`. This file format is considered legacy. We recommend using instead the native Keras format, e.g. `model.save('my_model.keras')` or `keras.saving.save_model(model, 'my_model.keras')`. \n"
     ]
    },
    {
     "name": "stdout",
     "output_type": "stream",
     "text": [
      "20857/20857 - 632s - 30ms/step - accuracy: 0.8049 - loss: 0.6869 - val_accuracy: 0.8689 - val_loss: 0.3317 - learning_rate: 5.0000e-04\n",
      "Epoch 6/130\n",
      "\n",
      "Epoch 6: val_accuracy improved from 0.86887 to 0.87317, saving model to best_chatbot_model.h5\n"
     ]
    },
    {
     "name": "stderr",
     "output_type": "stream",
     "text": [
      "WARNING:absl:You are saving your model as an HDF5 file via `model.save()` or `keras.saving.save_model(model)`. This file format is considered legacy. We recommend using instead the native Keras format, e.g. `model.save('my_model.keras')` or `keras.saving.save_model(model, 'my_model.keras')`. \n"
     ]
    },
    {
     "name": "stdout",
     "output_type": "stream",
     "text": [
      "20857/20857 - 6533s - 313ms/step - accuracy: 0.8129 - loss: 0.6601 - val_accuracy: 0.8732 - val_loss: 0.3266 - learning_rate: 5.0000e-04\n",
      "Epoch 7/130\n",
      "\n",
      "Epoch 7: val_accuracy improved from 0.87317 to 0.87449, saving model to best_chatbot_model.h5\n"
     ]
    },
    {
     "name": "stderr",
     "output_type": "stream",
     "text": [
      "WARNING:absl:You are saving your model as an HDF5 file via `model.save()` or `keras.saving.save_model(model)`. This file format is considered legacy. We recommend using instead the native Keras format, e.g. `model.save('my_model.keras')` or `keras.saving.save_model(model, 'my_model.keras')`. \n"
     ]
    },
    {
     "name": "stdout",
     "output_type": "stream",
     "text": [
      "20857/20857 - 620s - 30ms/step - accuracy: 0.8192 - loss: 0.6346 - val_accuracy: 0.8745 - val_loss: 0.3206 - learning_rate: 5.0000e-04\n",
      "Epoch 8/130\n",
      "\n",
      "Epoch 8: val_accuracy improved from 0.87449 to 0.87742, saving model to best_chatbot_model.h5\n"
     ]
    },
    {
     "name": "stderr",
     "output_type": "stream",
     "text": [
      "WARNING:absl:You are saving your model as an HDF5 file via `model.save()` or `keras.saving.save_model(model)`. This file format is considered legacy. We recommend using instead the native Keras format, e.g. `model.save('my_model.keras')` or `keras.saving.save_model(model, 'my_model.keras')`. \n"
     ]
    },
    {
     "name": "stdout",
     "output_type": "stream",
     "text": [
      "20857/20857 - 633s - 30ms/step - accuracy: 0.8247 - loss: 0.6182 - val_accuracy: 0.8774 - val_loss: 0.3103 - learning_rate: 5.0000e-04\n",
      "Epoch 9/130\n",
      "\n",
      "Epoch 9: val_accuracy did not improve from 0.87742\n",
      "20857/20857 - 33336s - 2s/step - accuracy: 0.8288 - loss: 0.6050 - val_accuracy: 0.8765 - val_loss: 0.3111 - learning_rate: 5.0000e-04\n",
      "Epoch 10/130\n",
      "\n",
      "Epoch 10: val_accuracy improved from 0.87742 to 0.87859, saving model to best_chatbot_model.h5\n"
     ]
    },
    {
     "name": "stderr",
     "output_type": "stream",
     "text": [
      "WARNING:absl:You are saving your model as an HDF5 file via `model.save()` or `keras.saving.save_model(model)`. This file format is considered legacy. We recommend using instead the native Keras format, e.g. `model.save('my_model.keras')` or `keras.saving.save_model(model, 'my_model.keras')`. \n"
     ]
    },
    {
     "name": "stdout",
     "output_type": "stream",
     "text": [
      "20857/20857 - 682s - 33ms/step - accuracy: 0.8323 - loss: 0.5882 - val_accuracy: 0.8786 - val_loss: 0.3055 - learning_rate: 5.0000e-04\n",
      "Epoch 11/130\n",
      "\n",
      "Epoch 11: val_accuracy improved from 0.87859 to 0.88227, saving model to best_chatbot_model.h5\n"
     ]
    },
    {
     "name": "stderr",
     "output_type": "stream",
     "text": [
      "WARNING:absl:You are saving your model as an HDF5 file via `model.save()` or `keras.saving.save_model(model)`. This file format is considered legacy. We recommend using instead the native Keras format, e.g. `model.save('my_model.keras')` or `keras.saving.save_model(model, 'my_model.keras')`. \n"
     ]
    },
    {
     "name": "stdout",
     "output_type": "stream",
     "text": [
      "20857/20857 - 1068s - 51ms/step - accuracy: 0.8358 - loss: 0.5770 - val_accuracy: 0.8823 - val_loss: 0.2975 - learning_rate: 5.0000e-04\n",
      "Epoch 12/130\n",
      "\n",
      "Epoch 12: val_accuracy did not improve from 0.88227\n",
      "20857/20857 - 1424s - 68ms/step - accuracy: 0.8382 - loss: 0.5685 - val_accuracy: 0.8812 - val_loss: 0.2915 - learning_rate: 5.0000e-04\n",
      "Epoch 13/130\n",
      "\n",
      "Epoch 13: val_accuracy improved from 0.88227 to 0.88470, saving model to best_chatbot_model.h5\n"
     ]
    },
    {
     "name": "stderr",
     "output_type": "stream",
     "text": [
      "WARNING:absl:You are saving your model as an HDF5 file via `model.save()` or `keras.saving.save_model(model)`. This file format is considered legacy. We recommend using instead the native Keras format, e.g. `model.save('my_model.keras')` or `keras.saving.save_model(model, 'my_model.keras')`. \n"
     ]
    },
    {
     "name": "stdout",
     "output_type": "stream",
     "text": [
      "20857/20857 - 1228s - 59ms/step - accuracy: 0.8406 - loss: 0.5604 - val_accuracy: 0.8847 - val_loss: 0.2965 - learning_rate: 5.0000e-04\n",
      "Epoch 14/130\n",
      "\n",
      "Epoch 14: val_accuracy improved from 0.88470 to 0.88947, saving model to best_chatbot_model.h5\n"
     ]
    },
    {
     "name": "stderr",
     "output_type": "stream",
     "text": [
      "WARNING:absl:You are saving your model as an HDF5 file via `model.save()` or `keras.saving.save_model(model)`. This file format is considered legacy. We recommend using instead the native Keras format, e.g. `model.save('my_model.keras')` or `keras.saving.save_model(model, 'my_model.keras')`. \n"
     ]
    },
    {
     "name": "stdout",
     "output_type": "stream",
     "text": [
      "20857/20857 - 1120s - 54ms/step - accuracy: 0.8430 - loss: 0.5496 - val_accuracy: 0.8895 - val_loss: 0.2852 - learning_rate: 5.0000e-04\n",
      "Epoch 15/130\n",
      "\n",
      "Epoch 15: val_accuracy did not improve from 0.88947\n",
      "20857/20857 - 1099s - 53ms/step - accuracy: 0.8448 - loss: 0.5469 - val_accuracy: 0.8845 - val_loss: 0.2878 - learning_rate: 5.0000e-04\n",
      "Epoch 16/130\n",
      "\n",
      "Epoch 16: val_accuracy did not improve from 0.88947\n",
      "20857/20857 - 1072s - 51ms/step - accuracy: 0.8470 - loss: 0.5376 - val_accuracy: 0.8869 - val_loss: 0.2875 - learning_rate: 5.0000e-04\n",
      "Epoch 17/130\n",
      "\n",
      "Epoch 17: val_accuracy did not improve from 0.88947\n",
      "20857/20857 - 1063s - 51ms/step - accuracy: 0.8499 - loss: 0.5286 - val_accuracy: 0.8893 - val_loss: 0.2791 - learning_rate: 5.0000e-04\n",
      "Epoch 18/130\n",
      "\n",
      "Epoch 18: val_accuracy did not improve from 0.88947\n",
      "20857/20857 - 1059s - 51ms/step - accuracy: 0.8514 - loss: 0.5271 - val_accuracy: 0.8894 - val_loss: 0.2800 - learning_rate: 5.0000e-04\n",
      "Epoch 19/130\n",
      "\n",
      "Epoch 19: val_accuracy did not improve from 0.88947\n",
      "20857/20857 - 1117s - 54ms/step - accuracy: 0.8520 - loss: 0.5259 - val_accuracy: 0.8876 - val_loss: 0.2816 - learning_rate: 5.0000e-04\n",
      "Epoch 20/130\n",
      "\n",
      "Epoch 20: val_accuracy improved from 0.88947 to 0.88962, saving model to best_chatbot_model.h5\n"
     ]
    },
    {
     "name": "stderr",
     "output_type": "stream",
     "text": [
      "WARNING:absl:You are saving your model as an HDF5 file via `model.save()` or `keras.saving.save_model(model)`. This file format is considered legacy. We recommend using instead the native Keras format, e.g. `model.save('my_model.keras')` or `keras.saving.save_model(model, 'my_model.keras')`. \n"
     ]
    },
    {
     "name": "stdout",
     "output_type": "stream",
     "text": [
      "20857/20857 - 1067s - 51ms/step - accuracy: 0.8529 - loss: 0.5148 - val_accuracy: 0.8896 - val_loss: 0.2753 - learning_rate: 5.0000e-04\n",
      "Epoch 21/130\n",
      "\n",
      "Epoch 21: val_accuracy improved from 0.88962 to 0.89175, saving model to best_chatbot_model.h5\n"
     ]
    },
    {
     "name": "stderr",
     "output_type": "stream",
     "text": [
      "WARNING:absl:You are saving your model as an HDF5 file via `model.save()` or `keras.saving.save_model(model)`. This file format is considered legacy. We recommend using instead the native Keras format, e.g. `model.save('my_model.keras')` or `keras.saving.save_model(model, 'my_model.keras')`. \n"
     ]
    },
    {
     "name": "stdout",
     "output_type": "stream",
     "text": [
      "20857/20857 - 1077s - 52ms/step - accuracy: 0.8547 - loss: 0.5203 - val_accuracy: 0.8917 - val_loss: 0.2720 - learning_rate: 5.0000e-04\n",
      "Epoch 22/130\n",
      "\n",
      "Epoch 22: val_accuracy did not improve from 0.89175\n",
      "20857/20857 - 1078s - 52ms/step - accuracy: 0.8555 - loss: 0.5146 - val_accuracy: 0.8914 - val_loss: 0.2751 - learning_rate: 5.0000e-04\n",
      "Epoch 23/130\n",
      "\n",
      "Epoch 23: val_accuracy did not improve from 0.89175\n",
      "20857/20857 - 1039s - 50ms/step - accuracy: 0.8570 - loss: 0.5071 - val_accuracy: 0.8914 - val_loss: 0.2737 - learning_rate: 5.0000e-04\n",
      "Epoch 24/130\n",
      "\n",
      "Epoch 24: val_accuracy improved from 0.89175 to 0.89382, saving model to best_chatbot_model.h5\n"
     ]
    },
    {
     "name": "stderr",
     "output_type": "stream",
     "text": [
      "WARNING:absl:You are saving your model as an HDF5 file via `model.save()` or `keras.saving.save_model(model)`. This file format is considered legacy. We recommend using instead the native Keras format, e.g. `model.save('my_model.keras')` or `keras.saving.save_model(model, 'my_model.keras')`. \n"
     ]
    },
    {
     "name": "stdout",
     "output_type": "stream",
     "text": [
      "20857/20857 - 1004s - 48ms/step - accuracy: 0.8573 - loss: 0.5014 - val_accuracy: 0.8938 - val_loss: 0.2654 - learning_rate: 5.0000e-04\n",
      "Epoch 25/130\n",
      "\n",
      "Epoch 25: val_accuracy did not improve from 0.89382\n",
      "20857/20857 - 1111s - 53ms/step - accuracy: 0.8581 - loss: 0.4986 - val_accuracy: 0.8930 - val_loss: 0.2655 - learning_rate: 5.0000e-04\n",
      "Epoch 26/130\n",
      "\n",
      "Epoch 26: val_accuracy improved from 0.89382 to 0.89453, saving model to best_chatbot_model.h5\n"
     ]
    },
    {
     "name": "stderr",
     "output_type": "stream",
     "text": [
      "WARNING:absl:You are saving your model as an HDF5 file via `model.save()` or `keras.saving.save_model(model)`. This file format is considered legacy. We recommend using instead the native Keras format, e.g. `model.save('my_model.keras')` or `keras.saving.save_model(model, 'my_model.keras')`. \n"
     ]
    },
    {
     "name": "stdout",
     "output_type": "stream",
     "text": [
      "20857/20857 - 1024s - 49ms/step - accuracy: 0.8603 - loss: 0.4997 - val_accuracy: 0.8945 - val_loss: 0.2700 - learning_rate: 5.0000e-04\n",
      "Epoch 27/130\n",
      "\n",
      "Epoch 27: val_accuracy did not improve from 0.89453\n",
      "20857/20857 - 1075s - 52ms/step - accuracy: 0.8603 - loss: 0.4921 - val_accuracy: 0.8937 - val_loss: 0.2686 - learning_rate: 5.0000e-04\n",
      "Epoch 28/130\n",
      "\n",
      "Epoch 28: val_accuracy did not improve from 0.89453\n",
      "20857/20857 - 1041s - 50ms/step - accuracy: 0.8608 - loss: 0.4964 - val_accuracy: 0.8944 - val_loss: 0.2682 - learning_rate: 5.0000e-04\n",
      "Epoch 29/130\n",
      "\n",
      "Epoch 29: ReduceLROnPlateau reducing learning rate to 0.00010000000474974513.\n",
      "\n",
      "Epoch 29: val_accuracy did not improve from 0.89453\n",
      "20857/20857 - 1076s - 52ms/step - accuracy: 0.8616 - loss: 0.4881 - val_accuracy: 0.8944 - val_loss: 0.2694 - learning_rate: 5.0000e-04\n",
      "Epoch 30/130\n",
      "\n",
      "Epoch 30: val_accuracy improved from 0.89453 to 0.89929, saving model to best_chatbot_model.h5\n"
     ]
    },
    {
     "name": "stderr",
     "output_type": "stream",
     "text": [
      "WARNING:absl:You are saving your model as an HDF5 file via `model.save()` or `keras.saving.save_model(model)`. This file format is considered legacy. We recommend using instead the native Keras format, e.g. `model.save('my_model.keras')` or `keras.saving.save_model(model, 'my_model.keras')`. \n"
     ]
    },
    {
     "name": "stdout",
     "output_type": "stream",
     "text": [
      "20857/20857 - 1050s - 50ms/step - accuracy: 0.8694 - loss: 0.4516 - val_accuracy: 0.8993 - val_loss: 0.2549 - learning_rate: 1.0000e-04\n",
      "Epoch 31/130\n",
      "\n",
      "Epoch 31: val_accuracy did not improve from 0.89929\n",
      "20857/20857 - 981s - 47ms/step - accuracy: 0.8729 - loss: 0.4421 - val_accuracy: 0.8991 - val_loss: 0.2544 - learning_rate: 1.0000e-04\n",
      "Epoch 32/130\n",
      "\n",
      "Epoch 32: val_accuracy improved from 0.89929 to 0.89975, saving model to best_chatbot_model.h5\n"
     ]
    },
    {
     "name": "stderr",
     "output_type": "stream",
     "text": [
      "WARNING:absl:You are saving your model as an HDF5 file via `model.save()` or `keras.saving.save_model(model)`. This file format is considered legacy. We recommend using instead the native Keras format, e.g. `model.save('my_model.keras')` or `keras.saving.save_model(model, 'my_model.keras')`. \n"
     ]
    },
    {
     "name": "stdout",
     "output_type": "stream",
     "text": [
      "20857/20857 - 1077s - 52ms/step - accuracy: 0.8747 - loss: 0.4333 - val_accuracy: 0.8997 - val_loss: 0.2528 - learning_rate: 1.0000e-04\n",
      "Epoch 33/130\n",
      "\n",
      "Epoch 33: val_accuracy improved from 0.89975 to 0.90149, saving model to best_chatbot_model.h5\n"
     ]
    },
    {
     "name": "stderr",
     "output_type": "stream",
     "text": [
      "WARNING:absl:You are saving your model as an HDF5 file via `model.save()` or `keras.saving.save_model(model)`. This file format is considered legacy. We recommend using instead the native Keras format, e.g. `model.save('my_model.keras')` or `keras.saving.save_model(model, 'my_model.keras')`. \n"
     ]
    },
    {
     "name": "stdout",
     "output_type": "stream",
     "text": [
      "20857/20857 - 1105s - 53ms/step - accuracy: 0.8754 - loss: 0.4309 - val_accuracy: 0.9015 - val_loss: 0.2497 - learning_rate: 1.0000e-04\n",
      "Epoch 34/130\n",
      "\n",
      "Epoch 34: val_accuracy did not improve from 0.90149\n",
      "20857/20857 - 1062s - 51ms/step - accuracy: 0.8766 - loss: 0.4295 - val_accuracy: 0.9010 - val_loss: 0.2510 - learning_rate: 1.0000e-04\n",
      "Epoch 35/130\n",
      "\n",
      "Epoch 35: val_accuracy did not improve from 0.90149\n",
      "20857/20857 - 1068s - 51ms/step - accuracy: 0.8775 - loss: 0.4216 - val_accuracy: 0.9005 - val_loss: 0.2512 - learning_rate: 1.0000e-04\n",
      "Epoch 36/130\n",
      "\n",
      "Epoch 36: val_accuracy improved from 0.90149 to 0.90155, saving model to best_chatbot_model.h5\n"
     ]
    },
    {
     "name": "stderr",
     "output_type": "stream",
     "text": [
      "WARNING:absl:You are saving your model as an HDF5 file via `model.save()` or `keras.saving.save_model(model)`. This file format is considered legacy. We recommend using instead the native Keras format, e.g. `model.save('my_model.keras')` or `keras.saving.save_model(model, 'my_model.keras')`. \n"
     ]
    },
    {
     "name": "stdout",
     "output_type": "stream",
     "text": [
      "20857/20857 - 1070s - 51ms/step - accuracy: 0.8777 - loss: 0.4262 - val_accuracy: 0.9015 - val_loss: 0.2503 - learning_rate: 1.0000e-04\n",
      "Epoch 37/130\n",
      "\n",
      "Epoch 37: val_accuracy did not improve from 0.90155\n",
      "20857/20857 - 1102s - 53ms/step - accuracy: 0.8776 - loss: 0.4220 - val_accuracy: 0.9008 - val_loss: 0.2502 - learning_rate: 1.0000e-04\n",
      "Epoch 38/130\n",
      "\n",
      "Epoch 38: ReduceLROnPlateau reducing learning rate to 2.0000000949949027e-05.\n",
      "\n",
      "Epoch 38: val_accuracy did not improve from 0.90155\n",
      "20857/20857 - 1072s - 51ms/step - accuracy: 0.8792 - loss: 0.4170 - val_accuracy: 0.9013 - val_loss: 0.2501 - learning_rate: 1.0000e-04\n",
      "Epoch 39/130\n",
      "\n",
      "Epoch 39: val_accuracy improved from 0.90155 to 0.90217, saving model to best_chatbot_model.h5\n"
     ]
    },
    {
     "name": "stderr",
     "output_type": "stream",
     "text": [
      "WARNING:absl:You are saving your model as an HDF5 file via `model.save()` or `keras.saving.save_model(model)`. This file format is considered legacy. We recommend using instead the native Keras format, e.g. `model.save('my_model.keras')` or `keras.saving.save_model(model, 'my_model.keras')`. \n"
     ]
    },
    {
     "name": "stdout",
     "output_type": "stream",
     "text": [
      "20857/20857 - 1078s - 52ms/step - accuracy: 0.8809 - loss: 0.4131 - val_accuracy: 0.9022 - val_loss: 0.2462 - learning_rate: 2.0000e-05\n",
      "Epoch 40/130\n",
      "\n",
      "Epoch 40: val_accuracy improved from 0.90217 to 0.90226, saving model to best_chatbot_model.h5\n"
     ]
    },
    {
     "name": "stderr",
     "output_type": "stream",
     "text": [
      "WARNING:absl:You are saving your model as an HDF5 file via `model.save()` or `keras.saving.save_model(model)`. This file format is considered legacy. We recommend using instead the native Keras format, e.g. `model.save('my_model.keras')` or `keras.saving.save_model(model, 'my_model.keras')`. \n"
     ]
    },
    {
     "name": "stdout",
     "output_type": "stream",
     "text": [
      "20857/20857 - 1127s - 54ms/step - accuracy: 0.8810 - loss: 0.4114 - val_accuracy: 0.9023 - val_loss: 0.2472 - learning_rate: 2.0000e-05\n",
      "Epoch 41/130\n",
      "\n",
      "Epoch 41: val_accuracy improved from 0.90226 to 0.90295, saving model to best_chatbot_model.h5\n"
     ]
    },
    {
     "name": "stderr",
     "output_type": "stream",
     "text": [
      "WARNING:absl:You are saving your model as an HDF5 file via `model.save()` or `keras.saving.save_model(model)`. This file format is considered legacy. We recommend using instead the native Keras format, e.g. `model.save('my_model.keras')` or `keras.saving.save_model(model, 'my_model.keras')`. \n"
     ]
    },
    {
     "name": "stdout",
     "output_type": "stream",
     "text": [
      "20857/20857 - 1078s - 52ms/step - accuracy: 0.8820 - loss: 0.4069 - val_accuracy: 0.9030 - val_loss: 0.2450 - learning_rate: 2.0000e-05\n",
      "Epoch 42/130\n",
      "\n",
      "Epoch 42: val_accuracy improved from 0.90295 to 0.90328, saving model to best_chatbot_model.h5\n"
     ]
    },
    {
     "name": "stderr",
     "output_type": "stream",
     "text": [
      "WARNING:absl:You are saving your model as an HDF5 file via `model.save()` or `keras.saving.save_model(model)`. This file format is considered legacy. We recommend using instead the native Keras format, e.g. `model.save('my_model.keras')` or `keras.saving.save_model(model, 'my_model.keras')`. \n"
     ]
    },
    {
     "name": "stdout",
     "output_type": "stream",
     "text": [
      "20857/20857 - 1153s - 55ms/step - accuracy: 0.8819 - loss: 0.4079 - val_accuracy: 0.9033 - val_loss: 0.2459 - learning_rate: 2.0000e-05\n",
      "Epoch 43/130\n",
      "\n",
      "Epoch 43: val_accuracy did not improve from 0.90328\n",
      "20857/20857 - 1091s - 52ms/step - accuracy: 0.8827 - loss: 0.4084 - val_accuracy: 0.9032 - val_loss: 0.2440 - learning_rate: 2.0000e-05\n",
      "Epoch 44/130\n",
      "\n",
      "Epoch 44: val_accuracy did not improve from 0.90328\n",
      "20857/20857 - 1098s - 53ms/step - accuracy: 0.8819 - loss: 0.4065 - val_accuracy: 0.9028 - val_loss: 0.2458 - learning_rate: 2.0000e-05\n",
      "Epoch 45/130\n",
      "\n",
      "Epoch 45: val_accuracy improved from 0.90328 to 0.90370, saving model to best_chatbot_model.h5\n"
     ]
    },
    {
     "name": "stderr",
     "output_type": "stream",
     "text": [
      "WARNING:absl:You are saving your model as an HDF5 file via `model.save()` or `keras.saving.save_model(model)`. This file format is considered legacy. We recommend using instead the native Keras format, e.g. `model.save('my_model.keras')` or `keras.saving.save_model(model, 'my_model.keras')`. \n"
     ]
    },
    {
     "name": "stdout",
     "output_type": "stream",
     "text": [
      "20857/20857 - 1092s - 52ms/step - accuracy: 0.8820 - loss: 0.4095 - val_accuracy: 0.9037 - val_loss: 0.2453 - learning_rate: 2.0000e-05\n",
      "Epoch 46/130\n",
      "\n",
      "Epoch 46: val_accuracy improved from 0.90370 to 0.90377, saving model to best_chatbot_model.h5\n"
     ]
    },
    {
     "name": "stderr",
     "output_type": "stream",
     "text": [
      "WARNING:absl:You are saving your model as an HDF5 file via `model.save()` or `keras.saving.save_model(model)`. This file format is considered legacy. We recommend using instead the native Keras format, e.g. `model.save('my_model.keras')` or `keras.saving.save_model(model, 'my_model.keras')`. \n"
     ]
    },
    {
     "name": "stdout",
     "output_type": "stream",
     "text": [
      "20857/20857 - 1130s - 54ms/step - accuracy: 0.8826 - loss: 0.4069 - val_accuracy: 0.9038 - val_loss: 0.2450 - learning_rate: 2.0000e-05\n",
      "Epoch 47/130\n",
      "\n",
      "Epoch 47: val_accuracy improved from 0.90377 to 0.90396, saving model to best_chatbot_model.h5\n"
     ]
    },
    {
     "name": "stderr",
     "output_type": "stream",
     "text": [
      "WARNING:absl:You are saving your model as an HDF5 file via `model.save()` or `keras.saving.save_model(model)`. This file format is considered legacy. We recommend using instead the native Keras format, e.g. `model.save('my_model.keras')` or `keras.saving.save_model(model, 'my_model.keras')`. \n"
     ]
    },
    {
     "name": "stdout",
     "output_type": "stream",
     "text": [
      "20857/20857 - 1148s - 55ms/step - accuracy: 0.8828 - loss: 0.4034 - val_accuracy: 0.9040 - val_loss: 0.2453 - learning_rate: 2.0000e-05\n",
      "Epoch 48/130\n",
      "\n",
      "Epoch 48: ReduceLROnPlateau reducing learning rate to 4.000000262749381e-06.\n",
      "\n",
      "Epoch 48: val_accuracy improved from 0.90396 to 0.90425, saving model to best_chatbot_model.h5\n"
     ]
    },
    {
     "name": "stderr",
     "output_type": "stream",
     "text": [
      "WARNING:absl:You are saving your model as an HDF5 file via `model.save()` or `keras.saving.save_model(model)`. This file format is considered legacy. We recommend using instead the native Keras format, e.g. `model.save('my_model.keras')` or `keras.saving.save_model(model, 'my_model.keras')`. \n"
     ]
    },
    {
     "name": "stdout",
     "output_type": "stream",
     "text": [
      "20857/20857 - 1155s - 55ms/step - accuracy: 0.8829 - loss: 0.4053 - val_accuracy: 0.9042 - val_loss: 0.2447 - learning_rate: 2.0000e-05\n",
      "Epoch 49/130\n",
      "\n",
      "Epoch 49: val_accuracy did not improve from 0.90425\n",
      "20857/20857 - 1079s - 52ms/step - accuracy: 0.8835 - loss: 0.4046 - val_accuracy: 0.9038 - val_loss: 0.2450 - learning_rate: 4.0000e-06\n",
      "Epoch 50/130\n",
      "\n",
      "Epoch 50: val_accuracy did not improve from 0.90425\n",
      "20857/20857 - 1120s - 54ms/step - accuracy: 0.8827 - loss: 0.4047 - val_accuracy: 0.9040 - val_loss: 0.2449 - learning_rate: 4.0000e-06\n",
      "Epoch 51/130\n",
      "\n",
      "Epoch 51: val_accuracy improved from 0.90425 to 0.90447, saving model to best_chatbot_model.h5\n"
     ]
    },
    {
     "name": "stderr",
     "output_type": "stream",
     "text": [
      "WARNING:absl:You are saving your model as an HDF5 file via `model.save()` or `keras.saving.save_model(model)`. This file format is considered legacy. We recommend using instead the native Keras format, e.g. `model.save('my_model.keras')` or `keras.saving.save_model(model, 'my_model.keras')`. \n"
     ]
    },
    {
     "name": "stdout",
     "output_type": "stream",
     "text": [
      "20857/20857 - 1097s - 53ms/step - accuracy: 0.8826 - loss: 0.3992 - val_accuracy: 0.9045 - val_loss: 0.2449 - learning_rate: 4.0000e-06\n",
      "Epoch 52/130\n",
      "\n",
      "Epoch 52: val_accuracy did not improve from 0.90447\n",
      "20857/20857 - 1076s - 52ms/step - accuracy: 0.8838 - loss: 0.4036 - val_accuracy: 0.9039 - val_loss: 0.2444 - learning_rate: 4.0000e-06\n",
      "Epoch 53/130\n",
      "\n",
      "Epoch 53: ReduceLROnPlateau reducing learning rate to 1e-06.\n",
      "\n",
      "Epoch 53: val_accuracy did not improve from 0.90447\n",
      "20857/20857 - 1184s - 57ms/step - accuracy: 0.8833 - loss: 0.4026 - val_accuracy: 0.9040 - val_loss: 0.2444 - learning_rate: 4.0000e-06\n",
      "Epoch 54/130\n",
      "\n",
      "Epoch 54: val_accuracy did not improve from 0.90447\n",
      "20857/20857 - 1010s - 48ms/step - accuracy: 0.8827 - loss: 0.3995 - val_accuracy: 0.9037 - val_loss: 0.2446 - learning_rate: 1.0000e-06\n",
      "Epoch 55/130\n",
      "\n",
      "Epoch 55: val_accuracy did not improve from 0.90447\n",
      "20857/20857 - 1307s - 63ms/step - accuracy: 0.8833 - loss: 0.4025 - val_accuracy: 0.9039 - val_loss: 0.2445 - learning_rate: 1.0000e-06\n",
      "Epoch 56/130\n",
      "\n",
      "Epoch 56: val_accuracy did not improve from 0.90447\n",
      "20857/20857 - 1339s - 64ms/step - accuracy: 0.8834 - loss: 0.3992 - val_accuracy: 0.9039 - val_loss: 0.2450 - learning_rate: 1.0000e-06\n",
      "Epoch 57/130\n",
      "\n",
      "Epoch 57: val_accuracy did not improve from 0.90447\n",
      "20857/20857 - 1235s - 59ms/step - accuracy: 0.8833 - loss: 0.3995 - val_accuracy: 0.9036 - val_loss: 0.2439 - learning_rate: 1.0000e-06\n",
      "Epoch 58/130\n",
      "\n",
      "Epoch 58: val_accuracy did not improve from 0.90447\n",
      "20857/20857 - 1275s - 61ms/step - accuracy: 0.8838 - loss: 0.4030 - val_accuracy: 0.9039 - val_loss: 0.2444 - learning_rate: 1.0000e-06\n",
      "Epoch 59/130\n",
      "\n",
      "Epoch 59: val_accuracy did not improve from 0.90447\n",
      "20857/20857 - 1374s - 66ms/step - accuracy: 0.8839 - loss: 0.4025 - val_accuracy: 0.9039 - val_loss: 0.2442 - learning_rate: 1.0000e-06\n",
      "Epoch 60/130\n",
      "\n",
      "Epoch 60: val_accuracy did not improve from 0.90447\n",
      "20857/20857 - 1379s - 66ms/step - accuracy: 0.8837 - loss: 0.4031 - val_accuracy: 0.9037 - val_loss: 0.2440 - learning_rate: 1.0000e-06\n",
      "Epoch 61/130\n",
      "\n",
      "Epoch 61: val_accuracy did not improve from 0.90447\n",
      "20857/20857 - 1194s - 57ms/step - accuracy: 0.8840 - loss: 0.4032 - val_accuracy: 0.9041 - val_loss: 0.2441 - learning_rate: 1.0000e-06\n",
      "Epoch 62/130\n",
      "\n",
      "Epoch 62: val_accuracy did not improve from 0.90447\n",
      "20857/20857 - 1131s - 54ms/step - accuracy: 0.8840 - loss: 0.4016 - val_accuracy: 0.9037 - val_loss: 0.2449 - learning_rate: 1.0000e-06\n",
      "Epoch 63/130\n",
      "\n",
      "Epoch 63: val_accuracy did not improve from 0.90447\n",
      "20857/20857 - 1119s - 54ms/step - accuracy: 0.8834 - loss: 0.4000 - val_accuracy: 0.9038 - val_loss: 0.2449 - learning_rate: 1.0000e-06\n",
      "Epoch 64/130\n",
      "\n",
      "Epoch 64: val_accuracy did not improve from 0.90447\n",
      "20857/20857 - 1076s - 52ms/step - accuracy: 0.8837 - loss: 0.4017 - val_accuracy: 0.9039 - val_loss: 0.2442 - learning_rate: 1.0000e-06\n",
      "Epoch 65/130\n",
      "\n",
      "Epoch 65: val_accuracy did not improve from 0.90447\n",
      "20857/20857 - 1135s - 54ms/step - accuracy: 0.8834 - loss: 0.4006 - val_accuracy: 0.9043 - val_loss: 0.2456 - learning_rate: 1.0000e-06\n",
      "Epoch 66/130\n",
      "\n",
      "Epoch 66: val_accuracy did not improve from 0.90447\n",
      "20857/20857 - 1087s - 52ms/step - accuracy: 0.8832 - loss: 0.4021 - val_accuracy: 0.9037 - val_loss: 0.2446 - learning_rate: 1.0000e-06\n",
      "Epoch 67/130\n",
      "\n",
      "Epoch 67: val_accuracy did not improve from 0.90447\n",
      "20857/20857 - 1069s - 51ms/step - accuracy: 0.8829 - loss: 0.4031 - val_accuracy: 0.9040 - val_loss: 0.2442 - learning_rate: 1.0000e-06\n",
      "Epoch 68/130\n",
      "\n",
      "Epoch 68: val_accuracy did not improve from 0.90447\n",
      "20857/20857 - 1109s - 53ms/step - accuracy: 0.8833 - loss: 0.4017 - val_accuracy: 0.9039 - val_loss: 0.2446 - learning_rate: 1.0000e-06\n",
      "Epoch 69/130\n",
      "\n",
      "Epoch 69: val_accuracy did not improve from 0.90447\n",
      "20857/20857 - 1140s - 55ms/step - accuracy: 0.8838 - loss: 0.4007 - val_accuracy: 0.9036 - val_loss: 0.2448 - learning_rate: 1.0000e-06\n",
      "Epoch 70/130\n",
      "\n",
      "Epoch 70: val_accuracy did not improve from 0.90447\n",
      "20857/20857 - 1093s - 52ms/step - accuracy: 0.8837 - loss: 0.4010 - val_accuracy: 0.9037 - val_loss: 0.2443 - learning_rate: 1.0000e-06\n",
      "Epoch 71/130\n",
      "\n",
      "Epoch 71: val_accuracy did not improve from 0.90447\n",
      "20857/20857 - 1091s - 52ms/step - accuracy: 0.8831 - loss: 0.3995 - val_accuracy: 0.9042 - val_loss: 0.2449 - learning_rate: 1.0000e-06\n",
      "Epoch 71: early stopping\n",
      "Restoring model weights from the end of the best epoch: 51.\n"
     ]
    }
   ],
   "source": [
    "\n",
    "# 12. Train the Enhanced Model\n",
    "print(\"\\nStarting enhanced training...\")\n",
    "history = model.fit(\n",
    "    X_train, y_train,\n",
    "    epochs=130,\n",
    "    batch_size=16,\n",
    "    validation_data=(X_test, y_test),\n",
    "    callbacks=callbacks,\n",
    "    class_weight=class_weight,  # استخدم القاموس هنا\n",
    "    verbose=2\n",
    ")\n"
   ]
  },
  {
   "cell_type": "code",
   "execution_count": 13,
   "id": "e00cd4fd",
   "metadata": {},
   "outputs": [
    {
     "data": {
      "image/png": "[encoded data removed]",
      "text/plain": [
       "<Figure size 1200x500 with 2 Axes>"
      ]
     },
     "metadata": {},
     "output_type": "display_data"
    }
   ],
   "source": [
    "\n",
    "# 13. Visualization\n",
    "plt.figure(figsize=(12, 5))\n",
    "plt.subplot(1, 2, 1)\n",
    "plt.plot(history.history['accuracy'], label='Training Accuracy')\n",
    "plt.plot(history.history['val_accuracy'], label='Validation Accuracy')\n",
    "plt.title('Enhanced Model Accuracy')\n",
    "plt.ylabel('Accuracy')\n",
    "plt.xlabel('Epoch')\n",
    "plt.legend()\n",
    "\n",
    "plt.subplot(1, 2, 2)\n",
    "plt.plot(history.history['loss'], label='Training Loss')\n",
    "plt.plot(history.history['val_loss'], label='Validation Loss')\n",
    "plt.title('Enhanced Model Loss')\n",
    "plt.ylabel('Loss')\n",
    "plt.xlabel('Epoch')\n",
    "plt.legend()\n",
    "\n",
    "plt.tight_layout()\n",
    "plt.show()"
   ]
  },
  {
   "cell_type": "code",
   "execution_count": 16,
   "id": "5777692b",
   "metadata": {},
   "outputs": [
    {
     "name": "stdout",
     "output_type": "stream",
     "text": [
      "\n",
      "Enhanced training completed successfully!\n",
      "Best training accuracy: 0.8840\n",
      "Best validation accuracy: 0.9045\n",
      "Model and tokenizer saved successfully!\n"
     ]
    }
   ],
   "source": [
    "\n",
    "# 14. Save Enhanced Model\n",
    "model.save(\"enhanced_chatbot_model.keras\")\n",
    "with open(\"enhanced_tokenizer.pkl\", \"wb\") as f:\n",
    "    pickle.dump(tokenizer, f)\n",
    "with open(\"enhanced_label_encoder.pkl\", \"wb\") as f:\n",
    "    pickle.dump(label_encoder, f)\n",
    "\n",
    "print(\"\\nEnhanced training completed successfully!\")\n",
    "print(f\"Best training accuracy: {max(history.history['accuracy']):.4f}\")\n",
    "print(f\"Best validation accuracy: {max(history.history['val_accuracy']):.4f}\")\n",
    "# save the model and tokenizer\n",
    "print(\"Model and tokenizer saved successfully!\")\n",
    "\n",
    "\n",
    "# 15. Clear Keras Session"
   ]
  }
 ],
 "metadata": {
  "kernelspec": {
   "display_name": "base",
   "language": "python",
   "name": "python3"
  },
  "language_info": {
   "codemirror_mode": {
    "name": "ipython",
    "version": 3
   },
   "file_extension": ".py",
   "mimetype": "text/x-python",
   "name": "python",
   "nbconvert_exporter": "python",
   "pygments_lexer": "ipython3",
   "version": "3.12.3"
  }
 },
 "nbformat": 4,
 "nbformat_minor": 5
}
